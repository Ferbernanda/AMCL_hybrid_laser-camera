{
 "cells": [
  {
   "cell_type": "code",
   "execution_count": 1,
   "metadata": {},
   "outputs": [],
   "source": [
    "import pandas"
   ]
  },
  {
   "cell_type": "code",
   "execution_count": 2,
   "metadata": {},
   "outputs": [],
   "source": [
    "path = \"/home/miguel/catkin_ws/src/simulation_files/saved_files_and_results/test_2/\"\n",
    "type_file =\".txt\"\n",
    "full_path_hybrid = str(path + str(\"amcl_hybrid_results_comparative\") + type_file)\n",
    "full_path_laser = str(path + str(\"amcl_laser_results_comparative\") + type_file)\n",
    "full_path_marker = str(path + str(\"amcl_marker_results_comparative\") + type_file)\n",
    "full_part_comparative = str(path + str(\"amcl_results_comparative\") + type_file)"
   ]
  },
  {
   "cell_type": "code",
   "execution_count": 3,
   "metadata": {},
   "outputs": [
    {
     "data": {
      "text/html": [
       "<div>\n",
       "<style scoped>\n",
       "    .dataframe tbody tr th:only-of-type {\n",
       "        vertical-align: middle;\n",
       "    }\n",
       "\n",
       "    .dataframe tbody tr th {\n",
       "        vertical-align: top;\n",
       "    }\n",
       "\n",
       "    .dataframe thead th {\n",
       "        text-align: right;\n",
       "    }\n",
       "</style>\n",
       "<table border=\"1\" class=\"dataframe\">\n",
       "  <thead>\n",
       "    <tr style=\"text-align: right;\">\n",
       "      <th></th>\n",
       "      <th>Laser weight</th>\n",
       "      <th>Marker weight</th>\n",
       "      <th>X position error</th>\n",
       "      <th>Y position error</th>\n",
       "      <th>Pos position error</th>\n",
       "      <th>YAW error</th>\n",
       "      <th>X deviation</th>\n",
       "      <th>Y deviation</th>\n",
       "      <th>YAW deviation</th>\n",
       "    </tr>\n",
       "  </thead>\n",
       "  <tbody>\n",
       "    <tr>\n",
       "      <th>0</th>\n",
       "      <td>1.939</td>\n",
       "      <td>5.385</td>\n",
       "      <td>0.063</td>\n",
       "      <td>0.066</td>\n",
       "      <td>0.099</td>\n",
       "      <td>2.245</td>\n",
       "      <td>0.125</td>\n",
       "      <td>0.119</td>\n",
       "      <td>0.044</td>\n",
       "    </tr>\n",
       "  </tbody>\n",
       "</table>\n",
       "</div>"
      ],
      "text/plain": [
       "   Laser weight  Marker weight  X position error  Y position error  \\\n",
       "0         1.939          5.385             0.063             0.066   \n",
       "\n",
       "   Pos position error  YAW error  X deviation  Y deviation  YAW deviation  \n",
       "0               0.099      2.245        0.125        0.119          0.044  "
      ]
     },
     "execution_count": 3,
     "metadata": {},
     "output_type": "execute_result"
    }
   ],
   "source": [
    "data_hybrid = pandas.read_csv(full_path_hybrid, skipinitialspace = True)\n",
    "data_hybrid.head()"
   ]
  },
  {
   "cell_type": "code",
   "execution_count": 4,
   "metadata": {},
   "outputs": [
    {
     "data": {
      "text/html": [
       "<div>\n",
       "<style scoped>\n",
       "    .dataframe tbody tr th:only-of-type {\n",
       "        vertical-align: middle;\n",
       "    }\n",
       "\n",
       "    .dataframe tbody tr th {\n",
       "        vertical-align: top;\n",
       "    }\n",
       "\n",
       "    .dataframe thead th {\n",
       "        text-align: right;\n",
       "    }\n",
       "</style>\n",
       "<table border=\"1\" class=\"dataframe\">\n",
       "  <thead>\n",
       "    <tr style=\"text-align: right;\">\n",
       "      <th></th>\n",
       "      <th>Laser weight</th>\n",
       "      <th>Marker weight</th>\n",
       "      <th>X position error</th>\n",
       "      <th>Y position error</th>\n",
       "      <th>Pos position error</th>\n",
       "      <th>YAW error</th>\n",
       "      <th>X deviation</th>\n",
       "      <th>Y deviation</th>\n",
       "      <th>YAW deviation</th>\n",
       "    </tr>\n",
       "  </thead>\n",
       "  <tbody>\n",
       "    <tr>\n",
       "      <th>0</th>\n",
       "      <td>1.888</td>\n",
       "      <td>0.0</td>\n",
       "      <td>0.05</td>\n",
       "      <td>0.293</td>\n",
       "      <td>0.306</td>\n",
       "      <td>1.788</td>\n",
       "      <td>0.184</td>\n",
       "      <td>0.406</td>\n",
       "      <td>0.083</td>\n",
       "    </tr>\n",
       "  </tbody>\n",
       "</table>\n",
       "</div>"
      ],
      "text/plain": [
       "   Laser weight  Marker weight  X position error  Y position error  \\\n",
       "0         1.888            0.0              0.05             0.293   \n",
       "\n",
       "   Pos position error  YAW error  X deviation  Y deviation  YAW deviation  \n",
       "0               0.306      1.788        0.184        0.406          0.083  "
      ]
     },
     "execution_count": 4,
     "metadata": {},
     "output_type": "execute_result"
    }
   ],
   "source": [
    "data_laser = pandas.read_csv(full_path_laser, skipinitialspace = True)\n",
    "data_laser.head()"
   ]
  },
  {
   "cell_type": "code",
   "execution_count": 5,
   "metadata": {},
   "outputs": [
    {
     "data": {
      "text/html": [
       "<div>\n",
       "<style scoped>\n",
       "    .dataframe tbody tr th:only-of-type {\n",
       "        vertical-align: middle;\n",
       "    }\n",
       "\n",
       "    .dataframe tbody tr th {\n",
       "        vertical-align: top;\n",
       "    }\n",
       "\n",
       "    .dataframe thead th {\n",
       "        text-align: right;\n",
       "    }\n",
       "</style>\n",
       "<table border=\"1\" class=\"dataframe\">\n",
       "  <thead>\n",
       "    <tr style=\"text-align: right;\">\n",
       "      <th></th>\n",
       "      <th>Laser weight</th>\n",
       "      <th>Marker weight</th>\n",
       "      <th>X position error</th>\n",
       "      <th>Y position error</th>\n",
       "      <th>Pos position error</th>\n",
       "      <th>YAW error</th>\n",
       "      <th>X deviation</th>\n",
       "      <th>Y deviation</th>\n",
       "      <th>YAW deviation</th>\n",
       "    </tr>\n",
       "  </thead>\n",
       "  <tbody>\n",
       "    <tr>\n",
       "      <th>0</th>\n",
       "      <td>0.0</td>\n",
       "      <td>4.932</td>\n",
       "      <td>0.095</td>\n",
       "      <td>0.104</td>\n",
       "      <td>0.146</td>\n",
       "      <td>1.599</td>\n",
       "      <td>0.337</td>\n",
       "      <td>0.359</td>\n",
       "      <td>0.125</td>\n",
       "    </tr>\n",
       "  </tbody>\n",
       "</table>\n",
       "</div>"
      ],
      "text/plain": [
       "   Laser weight  Marker weight  X position error  Y position error  \\\n",
       "0           0.0          4.932             0.095             0.104   \n",
       "\n",
       "   Pos position error  YAW error  X deviation  Y deviation  YAW deviation  \n",
       "0               0.146      1.599        0.337        0.359          0.125  "
      ]
     },
     "execution_count": 5,
     "metadata": {},
     "output_type": "execute_result"
    }
   ],
   "source": [
    "data_marker = pandas.read_csv(full_path_marker, skipinitialspace = True)\n",
    "data_marker.head()"
   ]
  },
  {
   "cell_type": "code",
   "execution_count": 6,
   "metadata": {},
   "outputs": [],
   "source": [
    "mean_x_error_laser = data_laser[\"X position error\"][0]\n",
    "mean_x_error_marker = data_marker[\"X position error\"][0]\n",
    "mean_x_error_hybrid = data_hybrid[\"X position error\"][0]\n",
    "\n",
    "mean_y_error_laser = data_laser[\"Y position error\"][0]\n",
    "mean_y_error_marker = data_marker[\"Y position error\"][0]\n",
    "mean_y_error_hybrid = data_hybrid[\"Y position error\"][0]\n",
    "\n",
    "mean_pos_error_laser = data_laser[\"Pos position error\"][0]\n",
    "mean_pos_error_marker = data_marker[\"Pos position error\"][0]\n",
    "mean_pos_error_hybrid = data_hybrid[\"Pos position error\"][0]\n",
    "\n",
    "mean_yaw_error_laser = data_laser[\"YAW error\"][0]\n",
    "mean_yaw_error_marker = data_marker[\"YAW error\"][0]\n",
    "mean_yaw_error_hybrid = data_hybrid[\"YAW error\"][0]\n",
    "\n",
    "mean_x_covariance_laser = data_laser[\"X deviation\"][0]\n",
    "mean_x_covariance_marker = data_marker[\"X deviation\"][0]\n",
    "mean_x_covariance_hybrid = data_hybrid[\"X deviation\"][0]\n",
    "\n",
    "mean_y_covariance_laser = data_laser[\"Y deviation\"][0]\n",
    "mean_y_covariance_marker = data_marker[\"Y deviation\"][0]\n",
    "mean_y_covariance_hybrid = data_hybrid[\"Y deviation\"][0]\n",
    "\n",
    "mean_yaw_covariance_laser = data_laser[\"YAW deviation\"][0]\n",
    "mean_yaw_covariance_marker = data_marker[\"YAW deviation\"][0]\n",
    "mean_yaw_covariance_hybrid = data_hybrid[\"YAW deviation\"][0]\n",
    "\n",
    "mean_weight_laser_laser = data_laser[\"Laser weight\"][0]\n",
    "mean_weight_laser_marker = data_marker[\"Laser weight\"][0]\n",
    "mean_weight_laser_hybrid = data_hybrid[\"Laser weight\"][0]\n",
    "\n",
    "mean_weight_marker_laser = data_laser[\"Marker weight\"][0]\n",
    "mean_weight_marker_marker = data_marker[\"Marker weight\"][0]\n",
    "mean_weight_marker_hybrid = data_hybrid[\"Marker weight\"][0]\n",
    "\n",
    "results = open(full_part_comparative, \"w\")\n",
    "dec = 2\n",
    "\n",
    "results.write(\"### Hybrid values refer to Laser and Marker values:\\n\\n\")\n",
    "results.write(\"Laser weight: \" + str(round((((mean_weight_laser_hybrid * 100)/mean_weight_laser_laser) - 100), dec)) + \"%\\n\")\n",
    "results.write(\"Marker weight: \" + str(round((((mean_weight_marker_hybrid * 100)/mean_weight_marker_marker) - 100), dec)) + \"%\\n\")\n",
    "results.write(\"\\n\")\n",
    "results.write(\"X position error_laser: \" + str(round((((mean_x_error_hybrid * 100)/mean_x_error_laser) - 100), dec)) + \"%\\n\")\n",
    "results.write(\"X position error_marker: \" + str(round((((mean_x_error_hybrid * 100)/mean_x_error_marker) - 100), dec)) + \"%\\n\")\n",
    "results.write(\"\\n\")\n",
    "results.write(\"Y position error_laser: \" + str(round((((mean_y_error_hybrid * 100)/mean_y_error_laser) - 100), dec))  + \"%\\n\")\n",
    "results.write(\"Y position error_marker: \" + str(round((((mean_y_error_hybrid * 100)/mean_y_error_marker) - 100), dec))  + \"%\\n\")\n",
    "results.write(\"\\n\")\n",
    "results.write(\"Pos position error_laser: \" + str(round((((mean_pos_error_hybrid * 100)/mean_pos_error_laser) - 100), dec)) + \"%\\n\")\n",
    "results.write(\"Pos position error_marker: \" + str(round((((mean_pos_error_hybrid * 100)/mean_pos_error_marker) - 100), dec)) + \"%\\n\")\n",
    "results.write(\"\\n\")\n",
    "results.write(\"YAW error_laser: \" + str(round((((mean_yaw_error_hybrid * 100)/mean_yaw_error_laser) - 100), dec)) + \"%\\n\")\n",
    "results.write(\"YAW error_marker: \" + str(round((((mean_yaw_error_hybrid * 100)/mean_yaw_error_marker) - 100), dec)) + \"%\\n\")\n",
    "results.write(\"\\n\")\n",
    "results.write(\"X deviation_laser: \" + str(round((((mean_x_covariance_hybrid * 100)/mean_x_covariance_laser) - 100), dec)) + \"%\\n\")\n",
    "results.write(\"X deviation_marker: \" + str(round((((mean_x_covariance_hybrid * 100)/mean_x_covariance_marker) - 100), dec))+ \"%\\n\")\n",
    "results.write(\"\\n\")\n",
    "results.write(\"Y deviation_laser: \" + str(round((((mean_y_covariance_hybrid * 100)/mean_y_covariance_laser) - 100), dec)) + \"%\\n\")\n",
    "results.write(\"Y deviation_marker: \" + str(round((((mean_y_covariance_hybrid * 100)/mean_y_covariance_marker) - 100), dec)) + \"%\\n\")\n",
    "results.write(\"\\n\")\n",
    "results.write(\"YAW deviation_laser: \" + str(round((((mean_yaw_covariance_hybrid * 100)/mean_yaw_covariance_marker) - 100), dec)) + \"%\\n\")\n",
    "results.write(\"YAW deviation_marker: \" + str(round((((mean_yaw_covariance_hybrid * 100)/mean_yaw_covariance_marker) - 100), dec)) + \"%\\n\")\n",
    "\n",
    "results.close()"
   ]
  },
  {
   "cell_type": "code",
   "execution_count": null,
   "metadata": {},
   "outputs": [],
   "source": []
  }
 ],
 "metadata": {
  "kernelspec": {
   "display_name": "Python 3",
   "language": "python",
   "name": "python3"
  },
  "language_info": {
   "codemirror_mode": {
    "name": "ipython",
    "version": 3
   },
   "file_extension": ".py",
   "mimetype": "text/x-python",
   "name": "python",
   "nbconvert_exporter": "python",
   "pygments_lexer": "ipython3",
   "version": "3.6.8"
  }
 },
 "nbformat": 4,
 "nbformat_minor": 2
}
