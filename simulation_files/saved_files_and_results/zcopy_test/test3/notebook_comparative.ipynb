{
 "cells": [
  {
   "cell_type": "code",
   "execution_count": 1,
   "metadata": {},
   "outputs": [],
   "source": [
    "import pandas"
   ]
  },
  {
   "cell_type": "code",
   "execution_count": 6,
   "metadata": {},
   "outputs": [],
   "source": [
    "path = \"/home/miguel/catkin_ws/src/simulation_files/saved_files_and_results/test_3/\"\n",
    "type_file =\".txt\"\n",
    "full_path_hybrid = str(path + str(\"amcl_hybrid_results_comparative\") + type_file)\n",
    "full_path_laser = str(path + str(\"amcl_laser_results_comparative\") + type_file)\n",
    "full_path_marker = str(path + str(\"amcl_marker_results_comparative\") + type_file)\n",
    "full_part_comparative = str(path + str(\"amcl_results_comparative\") + type_file)"
   ]
  },
  {
   "cell_type": "code",
   "execution_count": 7,
   "metadata": {},
   "outputs": [
    {
     "data": {
      "text/html": [
       "<div>\n",
       "<style scoped>\n",
       "    .dataframe tbody tr th:only-of-type {\n",
       "        vertical-align: middle;\n",
       "    }\n",
       "\n",
       "    .dataframe tbody tr th {\n",
       "        vertical-align: top;\n",
       "    }\n",
       "\n",
       "    .dataframe thead th {\n",
       "        text-align: right;\n",
       "    }\n",
       "</style>\n",
       "<table border=\"1\" class=\"dataframe\">\n",
       "  <thead>\n",
       "    <tr style=\"text-align: right;\">\n",
       "      <th></th>\n",
       "      <th>Laser weight</th>\n",
       "      <th>Marker weight</th>\n",
       "      <th>X position error</th>\n",
       "      <th>Y position error</th>\n",
       "      <th>Pos position error</th>\n",
       "      <th>YAW error</th>\n",
       "      <th>X deviation</th>\n",
       "      <th>Y deviation</th>\n",
       "      <th>YAW deviation</th>\n",
       "    </tr>\n",
       "  </thead>\n",
       "  <tbody>\n",
       "    <tr>\n",
       "      <th>0</th>\n",
       "      <td>2.055</td>\n",
       "      <td>7.175</td>\n",
       "      <td>0.013</td>\n",
       "      <td>0.05</td>\n",
       "      <td>0.056</td>\n",
       "      <td>0.584</td>\n",
       "      <td>0.078</td>\n",
       "      <td>0.154</td>\n",
       "      <td>0.028</td>\n",
       "    </tr>\n",
       "  </tbody>\n",
       "</table>\n",
       "</div>"
      ],
      "text/plain": [
       "   Laser weight  Marker weight  X position error  Y position error  \\\n",
       "0         2.055          7.175             0.013              0.05   \n",
       "\n",
       "   Pos position error  YAW error  X deviation  Y deviation  YAW deviation  \n",
       "0               0.056      0.584        0.078        0.154          0.028  "
      ]
     },
     "execution_count": 7,
     "metadata": {},
     "output_type": "execute_result"
    }
   ],
   "source": [
    "data_hybrid = pandas.read_csv(full_path_hybrid, skipinitialspace = True)\n",
    "data_hybrid.head()"
   ]
  },
  {
   "cell_type": "code",
   "execution_count": 8,
   "metadata": {},
   "outputs": [
    {
     "data": {
      "text/html": [
       "<div>\n",
       "<style scoped>\n",
       "    .dataframe tbody tr th:only-of-type {\n",
       "        vertical-align: middle;\n",
       "    }\n",
       "\n",
       "    .dataframe tbody tr th {\n",
       "        vertical-align: top;\n",
       "    }\n",
       "\n",
       "    .dataframe thead th {\n",
       "        text-align: right;\n",
       "    }\n",
       "</style>\n",
       "<table border=\"1\" class=\"dataframe\">\n",
       "  <thead>\n",
       "    <tr style=\"text-align: right;\">\n",
       "      <th></th>\n",
       "      <th>Laser weight</th>\n",
       "      <th>Marker weight</th>\n",
       "      <th>X position error</th>\n",
       "      <th>Y position error</th>\n",
       "      <th>Pos position error</th>\n",
       "      <th>YAW error</th>\n",
       "      <th>X deviation</th>\n",
       "      <th>Y deviation</th>\n",
       "      <th>YAW deviation</th>\n",
       "    </tr>\n",
       "  </thead>\n",
       "  <tbody>\n",
       "    <tr>\n",
       "      <th>0</th>\n",
       "      <td>1.941</td>\n",
       "      <td>0.0</td>\n",
       "      <td>0.03</td>\n",
       "      <td>0.045</td>\n",
       "      <td>0.058</td>\n",
       "      <td>0.969</td>\n",
       "      <td>0.108</td>\n",
       "      <td>0.248</td>\n",
       "      <td>0.058</td>\n",
       "    </tr>\n",
       "  </tbody>\n",
       "</table>\n",
       "</div>"
      ],
      "text/plain": [
       "   Laser weight  Marker weight  X position error  Y position error  \\\n",
       "0         1.941            0.0              0.03             0.045   \n",
       "\n",
       "   Pos position error  YAW error  X deviation  Y deviation  YAW deviation  \n",
       "0               0.058      0.969        0.108        0.248          0.058  "
      ]
     },
     "execution_count": 8,
     "metadata": {},
     "output_type": "execute_result"
    }
   ],
   "source": [
    "data_laser = pandas.read_csv(full_path_laser, skipinitialspace = True)\n",
    "data_laser.head()"
   ]
  },
  {
   "cell_type": "code",
   "execution_count": 9,
   "metadata": {},
   "outputs": [
    {
     "data": {
      "text/html": [
       "<div>\n",
       "<style scoped>\n",
       "    .dataframe tbody tr th:only-of-type {\n",
       "        vertical-align: middle;\n",
       "    }\n",
       "\n",
       "    .dataframe tbody tr th {\n",
       "        vertical-align: top;\n",
       "    }\n",
       "\n",
       "    .dataframe thead th {\n",
       "        text-align: right;\n",
       "    }\n",
       "</style>\n",
       "<table border=\"1\" class=\"dataframe\">\n",
       "  <thead>\n",
       "    <tr style=\"text-align: right;\">\n",
       "      <th></th>\n",
       "      <th>Laser weight</th>\n",
       "      <th>Marker weight</th>\n",
       "      <th>X position error</th>\n",
       "      <th>Y position error</th>\n",
       "      <th>Pos position error</th>\n",
       "      <th>YAW error</th>\n",
       "      <th>X deviation</th>\n",
       "      <th>Y deviation</th>\n",
       "      <th>YAW deviation</th>\n",
       "    </tr>\n",
       "  </thead>\n",
       "  <tbody>\n",
       "    <tr>\n",
       "      <th>0</th>\n",
       "      <td>0.0</td>\n",
       "      <td>6.562</td>\n",
       "      <td>0.076</td>\n",
       "      <td>0.273</td>\n",
       "      <td>0.288</td>\n",
       "      <td>3.486</td>\n",
       "      <td>0.46</td>\n",
       "      <td>0.639</td>\n",
       "      <td>0.175</td>\n",
       "    </tr>\n",
       "  </tbody>\n",
       "</table>\n",
       "</div>"
      ],
      "text/plain": [
       "   Laser weight  Marker weight  X position error  Y position error  \\\n",
       "0           0.0          6.562             0.076             0.273   \n",
       "\n",
       "   Pos position error  YAW error  X deviation  Y deviation  YAW deviation  \n",
       "0               0.288      3.486         0.46        0.639          0.175  "
      ]
     },
     "execution_count": 9,
     "metadata": {},
     "output_type": "execute_result"
    }
   ],
   "source": [
    "data_marker = pandas.read_csv(full_path_marker, skipinitialspace = True)\n",
    "data_marker.head()"
   ]
  },
  {
   "cell_type": "code",
   "execution_count": 14,
   "metadata": {},
   "outputs": [],
   "source": [
    "mean_x_error_laser = data_laser[\"X position error\"][0]\n",
    "mean_x_error_marker = data_marker[\"X position error\"][0]\n",
    "mean_x_error_hybrid = data_hybrid[\"X position error\"][0]\n",
    "\n",
    "mean_y_error_laser = data_laser[\"Y position error\"][0]\n",
    "mean_y_error_marker = data_marker[\"Y position error\"][0]\n",
    "mean_y_error_hybrid = data_hybrid[\"Y position error\"][0]\n",
    "\n",
    "mean_pos_error_laser = data_laser[\"Pos position error\"][0]\n",
    "mean_pos_error_marker = data_marker[\"Pos position error\"][0]\n",
    "mean_pos_error_hybrid = data_hybrid[\"Pos position error\"][0]\n",
    "\n",
    "mean_yaw_error_laser = data_laser[\"YAW error\"][0]\n",
    "mean_yaw_error_marker = data_marker[\"YAW error\"][0]\n",
    "mean_yaw_error_hybrid = data_hybrid[\"YAW error\"][0]\n",
    "\n",
    "mean_x_covariance_laser = data_laser[\"X deviation\"][0]\n",
    "mean_x_covariance_marker = data_marker[\"X deviation\"][0]\n",
    "mean_x_covariance_hybrid = data_hybrid[\"X deviation\"][0]\n",
    "\n",
    "mean_y_covariance_laser = data_laser[\"Y deviation\"][0]\n",
    "mean_y_covariance_marker = data_marker[\"Y deviation\"][0]\n",
    "mean_y_covariance_hybrid = data_hybrid[\"Y deviation\"][0]\n",
    "\n",
    "mean_yaw_covariance_laser = data_laser[\"YAW deviation\"][0]\n",
    "mean_yaw_covariance_marker = data_marker[\"YAW deviation\"][0]\n",
    "mean_yaw_covariance_hybrid = data_hybrid[\"YAW deviation\"][0]\n",
    "\n",
    "mean_weight_laser_laser = data_laser[\"Laser weight\"][0]\n",
    "mean_weight_laser_marker = data_marker[\"Laser weight\"][0]\n",
    "mean_weight_laser_hybrid = data_hybrid[\"Laser weight\"][0]\n",
    "\n",
    "mean_weight_marker_laser = data_laser[\"Marker weight\"][0]\n",
    "mean_weight_marker_marker = data_marker[\"Marker weight\"][0]\n",
    "mean_weight_marker_hybrid = data_hybrid[\"Marker weight\"][0]\n",
    "\n",
    "results = open(full_part_comparative, \"w\")\n",
    "dec = 2\n",
    "\n",
    "results.write(\"### Hybrid values refer to Laser and Marker values:\\n\\n\")\n",
    "results.write(\"Laser weight: \" + str(round((((mean_weight_laser_hybrid * 100)/mean_weight_laser_laser) - 100), dec)) + \"%\\n\")\n",
    "results.write(\"Marker weight: \" + str(round((((mean_weight_marker_hybrid * 100)/mean_weight_marker_marker) - 100), dec)) + \"%\\n\")\n",
    "results.write(\"\\n\")\n",
    "results.write(\"X position error_laser: \" + str(round((((mean_x_error_hybrid * 100)/mean_x_error_laser) - 100), dec)) + \"%\\n\")\n",
    "results.write(\"X position error_marker: \" + str(round((((mean_x_error_hybrid * 100)/mean_x_error_marker) - 100), dec)) + \"%\\n\")\n",
    "results.write(\"\\n\")\n",
    "results.write(\"Y position error_laser: \" + str(round((((mean_y_error_hybrid * 100)/mean_y_error_laser) - 100), dec))  + \"%\\n\")\n",
    "results.write(\"Y position error_marker: \" + str(round((((mean_y_error_hybrid * 100)/mean_y_error_marker) - 100), dec))  + \"%\\n\")\n",
    "results.write(\"\\n\")\n",
    "results.write(\"Pos position error_laser: \" + str(round((((mean_pos_error_hybrid * 100)/mean_pos_error_laser) - 100), dec)) + \"%\\n\")\n",
    "results.write(\"Pos position error_marker: \" + str(round((((mean_pos_error_hybrid * 100)/mean_pos_error_marker) - 100), dec)) + \"%\\n\")\n",
    "results.write(\"\\n\")\n",
    "results.write(\"YAW error_laser: \" + str(round((((mean_yaw_error_hybrid * 100)/mean_yaw_error_laser) - 100), dec)) + \"%\\n\")\n",
    "results.write(\"YAW error_marker: \" + str(round((((mean_yaw_error_hybrid * 100)/mean_yaw_error_marker) - 100), dec)) + \"%\\n\")\n",
    "results.write(\"\\n\")\n",
    "results.write(\"X deviation_laser: \" + str(round((((mean_x_covariance_hybrid * 100)/mean_x_covariance_laser) - 100), dec)) + \"%\\n\")\n",
    "results.write(\"X deviation_marker: \" + str(round((((mean_x_covariance_hybrid * 100)/mean_x_covariance_marker) - 100), dec))+ \"%\\n\")\n",
    "results.write(\"\\n\")\n",
    "results.write(\"Y deviation_laser: \" + str(round((((mean_y_covariance_hybrid * 100)/mean_y_covariance_laser) - 100), dec)) + \"%\\n\")\n",
    "results.write(\"Y deviation_marker: \" + str(round((((mean_y_covariance_hybrid * 100)/mean_y_covariance_marker) - 100), dec)) + \"%\\n\")\n",
    "results.write(\"\\n\")\n",
    "results.write(\"YAW deviation_laser: \" + str(round((((mean_yaw_covariance_hybrid * 100)/mean_yaw_covariance_marker) - 100), dec)) + \"%\\n\")\n",
    "results.write(\"YAW deviation_marker: \" + str(round((((mean_yaw_covariance_hybrid * 100)/mean_yaw_covariance_marker) - 100), dec)) + \"%\\n\")\n",
    "\n",
    "results.close()"
   ]
  },
  {
   "cell_type": "code",
   "execution_count": null,
   "metadata": {},
   "outputs": [],
   "source": []
  }
 ],
 "metadata": {
  "kernelspec": {
   "display_name": "Python 3",
   "language": "python",
   "name": "python3"
  },
  "language_info": {
   "codemirror_mode": {
    "name": "ipython",
    "version": 3
   },
   "file_extension": ".py",
   "mimetype": "text/x-python",
   "name": "python",
   "nbconvert_exporter": "python",
   "pygments_lexer": "ipython3",
   "version": "3.6.8"
  }
 },
 "nbformat": 4,
 "nbformat_minor": 2
}
